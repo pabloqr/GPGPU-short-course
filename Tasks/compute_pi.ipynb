{
  "cells": [
    {
      "cell_type": "code",
      "source": [
        "!pip install pycuda"
      ],
      "metadata": {
        "id": "TjMaNQjP-RRo",
        "outputId": "77e55aa4-7927-414e-cc5b-cede24dbca7c",
        "colab": {
          "base_uri": "https://localhost:8080/"
        }
      },
      "id": "TjMaNQjP-RRo",
      "execution_count": 3,
      "outputs": [
        {
          "output_type": "stream",
          "name": "stdout",
          "text": [
            "Collecting pycuda\n",
            "  Downloading pycuda-2024.1.2.tar.gz (1.7 MB)\n",
            "\u001b[?25l     \u001b[90m━━━━━━━━━━━━━━━━━━━━━━━━━━━━━━━━━━━━━━━━\u001b[0m \u001b[32m0.0/1.7 MB\u001b[0m \u001b[31m?\u001b[0m eta \u001b[36m-:--:--\u001b[0m\r\u001b[2K     \u001b[91m━━━━━━━━━━━━━━━━\u001b[0m\u001b[90m╺\u001b[0m\u001b[90m━━━━━━━━━━━━━━━━━━━━━━━\u001b[0m \u001b[32m0.7/1.7 MB\u001b[0m \u001b[31m20.1 MB/s\u001b[0m eta \u001b[36m0:00:01\u001b[0m\r\u001b[2K     \u001b[90m━━━━━━━━━━━━━━━━━━━━━━━━━━━━━━━━━━━━━━━━\u001b[0m \u001b[32m1.7/1.7 MB\u001b[0m \u001b[31m28.9 MB/s\u001b[0m eta \u001b[36m0:00:00\u001b[0m\n",
            "\u001b[?25h  Installing build dependencies ... \u001b[?25l\u001b[?25hcanceled\n",
            "\u001b[31mERROR: Operation cancelled by user\u001b[0m\u001b[31m\n",
            "\u001b[0m"
          ]
        }
      ]
    },
    {
      "cell_type": "code",
      "execution_count": null,
      "id": "330a7103-fe4b-4125-841f-5142d162079f",
      "metadata": {
        "id": "330a7103-fe4b-4125-841f-5142d162079f"
      },
      "outputs": [],
      "source": [
        "import numpy as np\n",
        "import time\n",
        "\n",
        "import pycuda.driver as cuda\n",
        "import pycuda.autoinit\n",
        "from pycuda.compiler import SourceModule\n",
        "\n",
        "rng = np.random.default_rng()\n",
        "\n",
        "def compute_pi_cpu(n_points):\n",
        "    x_rand = rng.random(n_points)\n",
        "    y_rand = rng.random(n_points)\n",
        "\n",
        "    n_inside = 0\n",
        "\n",
        "    inside = np.sqrt(x_rand**2 + y_rand**2) <= 1.0\n",
        "    n_inside = np.sum(inside)\n",
        "\n",
        "    # for i in range(n_points):\n",
        "    #    n_inside += np.sqrt(x_rand[i]**2 + y_rand[i]**2) <= 1\n",
        "\n",
        "    pi = 4*n_inside / n_points\n",
        "\n",
        "    return pi"
      ]
    },
    {
      "cell_type": "code",
      "execution_count": null,
      "id": "732ded6c-c5e0-4b17-88cc-b2723c36e676",
      "metadata": {
        "id": "732ded6c-c5e0-4b17-88cc-b2723c36e676",
        "outputId": "4dda7c6d-577e-409e-ccb1-6367b1b1809a"
      },
      "outputs": [
        {
          "name": "stdout",
          "output_type": "stream",
          "text": [
            "3.1468\n",
            "Time CPU 0.012899 seconds\n",
            "CPU times: user 2.62 ms, sys: 11.7 ms, total: 14.3 ms\n",
            "Wall time: 13.1 ms\n"
          ]
        }
      ],
      "source": [
        "%%time\n",
        "\n",
        "tic = time.time()\n",
        "print(compute_pi_cpu(100000))\n",
        "tac = time.time()\n",
        "\n",
        "print(\"Time CPU {:f} seconds\".format(tac-tic))"
      ]
    },
    {
      "cell_type": "code",
      "execution_count": 1,
      "id": "d8648fb4-f97a-4166-81dd-ce8206067b9e",
      "metadata": {
        "id": "d8648fb4-f97a-4166-81dd-ce8206067b9e"
      },
      "outputs": [],
      "source": [
        "pi_kernel = \"\"\"\n",
        "__device__ float generateRandomNumber(long &last_draw)\n",
        "{\n",
        "    last_draw = last_draw*1103515245 + 12345;\n",
        "    long abs = last_draw & 0x7fffffff;\n",
        "    return abs / 2147483648.0;\n",
        "}\n",
        "\n",
        "__global__ void computePi(unsigned int *inside, unsigned int seed)\n",
        "{\n",
        "  unsigned int tid = threadIdx.x;\n",
        "\n",
        "  long rand_seed = seed + tid;\n",
        "  float x = generateRandomNumber(rand_seed);\n",
        "  float y = generateRandomNumber(rand_seed);\n",
        "\n",
        "  float r = sqrt(x*x + y*y);\n",
        "\n",
        "  if (r <= 1.f)\n",
        "  {\n",
        "    inside[tid] = 1;\n",
        "  }\n",
        "}\n",
        "\"\"\"\n",
        "\n",
        "mod = SourceModule(pi_kernel)\n",
        "func = mod.get_function(\"computePi\")"
      ]
    },
    {
      "cell_type": "code",
      "source": [
        "def compute_pi_gpu(n_points):\n",
        "  bytes_per_unit = 4\n",
        "\n",
        "  inside_gpu = cuda.mem_alloc(bytes_per_unit * n_points)\n",
        "\n",
        "  func(inside_gpu, np.uint32(time.time()), block=(n_points, 1, 1), grid=(1, 1, 1))\n",
        "\n",
        "  inside_cpu = np.empty(n_points, dtype=np.uint32)\n",
        "  cuda.memcpy_dtoh(inside_cpu, inside_gpu)\n",
        "\n",
        "  n_inside = np.sum(inside_cpu)\n",
        "\n",
        "  pi = 4 * n_inside / n_points\n",
        "\n",
        "  return pi"
      ],
      "metadata": {
        "id": "YZvwz2a88Y5K"
      },
      "id": "YZvwz2a88Y5K",
      "execution_count": 2,
      "outputs": []
    },
    {
      "cell_type": "code",
      "source": [
        "%%time\n",
        "\n",
        "tic = time.time()\n",
        "print(compute_pi_gpu(100000))\n",
        "tac = time.time()\n",
        "\n",
        "print(\"Time GPU {:f} seconds\".format(tac-tic))"
      ],
      "metadata": {
        "id": "Djb3vEQp90Qb"
      },
      "id": "Djb3vEQp90Qb",
      "execution_count": null,
      "outputs": []
    }
  ],
  "metadata": {
    "kernelspec": {
      "display_name": "Python 3 (ipykernel)",
      "language": "python",
      "name": "python3"
    },
    "language_info": {
      "codemirror_mode": {
        "name": "ipython",
        "version": 3
      },
      "file_extension": ".py",
      "mimetype": "text/x-python",
      "name": "python",
      "nbconvert_exporter": "python",
      "pygments_lexer": "ipython3",
      "version": "3.12.2"
    },
    "colab": {
      "provenance": []
    }
  },
  "nbformat": 4,
  "nbformat_minor": 5
}