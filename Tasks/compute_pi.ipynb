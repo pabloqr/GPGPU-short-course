{
 "cells": [
  {
   "cell_type": "code",
   "execution_count": 2,
   "id": "330a7103-fe4b-4125-841f-5142d162079f",
   "metadata": {},
   "outputs": [],
   "source": [
    "import numpy as np\n",
    "import time\n",
    "\n",
    "rng = np.random.default_rng()\n",
    "\n",
    "def compute_pi_cpu(n_points):\n",
    "    x_rand = rng.random(n_points)\n",
    "    y_rand = rng.random(n_points)\n",
    "\n",
    "    n_inside = 0\n",
    "\n",
    "    inside = np.sqrt(x_rand**2 + y_rand**2) <= 1.0\n",
    "    n_inside = np.sum(inside)\n",
    "\n",
    "    # for i in range(n_points):\n",
    "    #    n_inside += np.sqrt(x_rand[i]**2 + y_rand[i]**2) <= 1\n",
    "\n",
    "    pi = 4*n_inside / n_points\n",
    "\n",
    "    return pi"
   ]
  },
  {
   "cell_type": "code",
   "execution_count": 3,
   "id": "732ded6c-c5e0-4b17-88cc-b2723c36e676",
   "metadata": {},
   "outputs": [
    {
     "name": "stdout",
     "output_type": "stream",
     "text": [
      "3.1468\n",
      "Time CPU 0.012899 seconds\n",
      "CPU times: user 2.62 ms, sys: 11.7 ms, total: 14.3 ms\n",
      "Wall time: 13.1 ms\n"
     ]
    }
   ],
   "source": [
    "%%time\n",
    "\n",
    "tic = time.time()\n",
    "print(compute_pi_cpu(100000))\n",
    "tac = time.time()\n",
    "\n",
    "print(\"Time CPU {:f} seconds\".format(tac-tic))"
   ]
  },
  {
   "cell_type": "code",
   "execution_count": null,
   "id": "d8648fb4-f97a-4166-81dd-ce8206067b9e",
   "metadata": {},
   "outputs": [],
   "source": []
  }
 ],
 "metadata": {
  "kernelspec": {
   "display_name": "Python 3 (ipykernel)",
   "language": "python",
   "name": "python3"
  },
  "language_info": {
   "codemirror_mode": {
    "name": "ipython",
    "version": 3
   },
   "file_extension": ".py",
   "mimetype": "text/x-python",
   "name": "python",
   "nbconvert_exporter": "python",
   "pygments_lexer": "ipython3",
   "version": "3.12.2"
  }
 },
 "nbformat": 4,
 "nbformat_minor": 5
}
