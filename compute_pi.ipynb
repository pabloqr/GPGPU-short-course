{
  "cells": [
    {
      "cell_type": "markdown",
      "id": "73f1c8ad-64f2-488f-a034-f42d29a8ba07",
      "metadata": {
        "id": "73f1c8ad-64f2-488f-a034-f42d29a8ba07"
      },
      "source": [
        "# Exercise 1: Compute pi on the GPU"
      ]
    },
    {
      "cell_type": "markdown",
      "id": "04fdc4bd-3ac2-42ab-a602-3dc20dbf1f5b",
      "metadata": {
        "id": "04fdc4bd-3ac2-42ab-a602-3dc20dbf1f5b"
      },
      "source": [
        "## Tasks"
      ]
    },
    {
      "cell_type": "markdown",
      "id": "251f5223-3ef3-4fbb-b0ea-d02830aed277",
      "metadata": {
        "id": "251f5223-3ef3-4fbb-b0ea-d02830aed277"
      },
      "source": [
        "1. Write a CPU-program that computes pi using geometry and statistics\n",
        "2. Port this program to the GPU\n",
        "3. Optimize"
      ]
    },
    {
      "cell_type": "markdown",
      "id": "3af192b8-fc97-4c04-90b0-d683c8a0ad32",
      "metadata": {
        "id": "3af192b8-fc97-4c04-90b0-d683c8a0ad32"
      },
      "source": [
        "## Solution"
      ]
    },
    {
      "cell_type": "markdown",
      "id": "09edb316-eaba-4815-85d3-67c778d69290",
      "metadata": {
        "id": "09edb316-eaba-4815-85d3-67c778d69290"
      },
      "source": [
        "<-- see `compute_pi_solution.ipynb`"
      ]
    },
    {
      "cell_type": "code",
      "source": [
        "!pip install pycuda"
      ],
      "metadata": {
        "id": "LdAEnoOf-SpJ"
      },
      "id": "LdAEnoOf-SpJ",
      "execution_count": null,
      "outputs": []
    },
    {
      "cell_type": "code",
      "execution_count": null,
      "id": "afde457d-2bd5-492b-9d30-7443a64a686c",
      "metadata": {
        "id": "afde457d-2bd5-492b-9d30-7443a64a686c"
      },
      "outputs": [],
      "source": [
        "import numpy as np\n",
        "import time\n",
        "\n",
        "import pycuda.driver as cuda\n",
        "from pycuda.compiler import SourceModule\n",
        "import pycuda.autoinit\n",
        "\n",
        "rng = np.random.default_rng()\n",
        "\n",
        "def compute_pi_cpu(n_points):\n",
        "    x_rand = rng.random(n_points)\n",
        "    y_rand = rng.random(n_points)\n",
        "\n",
        "    inside = np.sqrt(x_rand**2 + y_rand**2) <= 1.0\n",
        "    n_inside = np.sum(inside)\n",
        "\n",
        "    #n_inside = 0\n",
        "    #for i in range(n_points):\n",
        "    #    n_inside += np.sqrt(x_rand[i]**2 + y_rand[i]**2) <= 1.0\n",
        "\n",
        "    pi = 4*n_inside/n_points\n",
        "\n",
        "    return pi"
      ]
    },
    {
      "cell_type": "code",
      "execution_count": null,
      "id": "e972b8ac-82b1-4d8f-8920-162b069a1b80",
      "metadata": {
        "id": "e972b8ac-82b1-4d8f-8920-162b069a1b80",
        "outputId": "71747161-274b-41f1-af30-370a860960e6"
      },
      "outputs": [
        {
          "name": "stdout",
          "output_type": "stream",
          "text": [
            "3.13044\n",
            "Time for CPU-version: 0.003916 seconds\n",
            "CPU times: total: 0 ns\n",
            "Wall time: 4.92 ms\n"
          ]
        }
      ],
      "source": [
        "%%time\n",
        "\n",
        "tic = time.time()\n",
        "print(compute_pi_cpu(100000))\n",
        "toc = time.time()\n",
        "\n",
        "print(\"Time for CPU-version: {:f} seconds\".format(toc-tic))"
      ]
    },
    {
      "cell_type": "code",
      "execution_count": 1,
      "id": "3cecc649-f6ab-4dda-9121-590662109b7d",
      "metadata": {
        "id": "3cecc649-f6ab-4dda-9121-590662109b7d"
      },
      "outputs": [],
      "source": [
        "pi_kernel_src = \"\"\"\n",
        "\n",
        "//Based on Stroustrup, adapted for CUDA\n",
        "//pseudorandom numbers\n",
        "__device__ float generateRandomNumber(long& last_draw) {\n",
        "    last_draw = last_draw*1103515245 + 12345;\n",
        "    long abs = last_draw & 0x7fffffff;\n",
        "    return abs / 2147483648.0;\n",
        "}\n",
        "\n",
        "__global__ void computePi(unsigned int* inside, unsigned int seed) {\n",
        "  unsigned int tid = threadIdx.x;\n",
        "\n",
        "  long rand_seed = seed + tid;\n",
        "  float x = generateRandomNumber(rand_seed);\n",
        "  float y = generateRandomNumber(rand_seed);\n",
        "\n",
        "  float r = sqrt(x*x + y*y);\n",
        "\n",
        "  if(r <= 1.0) {\n",
        "    inside[tid] = 1;\n",
        "  }\n",
        "}\n",
        "\"\"\"\n",
        "\n",
        "mod = SourceModule(pi_kernel_src)\n",
        "func = mod.get_funtion(\"computePi\")"
      ]
    },
    {
      "cell_type": "code",
      "source": [
        "def compute_pi_gpu(n_points):\n",
        "  bytes_per_uint = 4\n",
        "\n",
        "  inside_gpu = cuda.mem_alloc(bytes_per_uint * n_points)\n",
        "\n",
        "  func(inside_gpu, np.uint32(time.time()), block=(n_points, 1, 1), grid=(1, 1, 1))\n",
        "\n",
        "  inside_cpu = np.empty(n_points, dtype=np.uint32)\n",
        "  cuda.memcpy_dtoh(inside_cpu, inside_gpu)\n",
        "\n",
        "  n_inside = np.sum(inside_cpu)\n",
        "\n",
        "  pi = 4*n_inside/n_points\n",
        "\n",
        "  return pi"
      ],
      "metadata": {
        "id": "3Vkbxbya8Mbo"
      },
      "id": "3Vkbxbya8Mbo",
      "execution_count": null,
      "outputs": []
    },
    {
      "cell_type": "code",
      "source": [
        "%%time\n",
        "\n",
        "tic = time.time()\n",
        "print(compute_pi_gpu(100000))\n",
        "toc = time.time()\n",
        "\n",
        "print(\"Time for GPU-version: {:f} seconds\".format(toc-tic))"
      ],
      "metadata": {
        "id": "wYmpA1tv92yM"
      },
      "id": "wYmpA1tv92yM",
      "execution_count": null,
      "outputs": []
    }
  ],
  "metadata": {
    "kernelspec": {
      "display_name": "Python 3",
      "name": "python3"
    },
    "language_info": {
      "codemirror_mode": {
        "name": "ipython",
        "version": 3
      },
      "file_extension": ".py",
      "mimetype": "text/x-python",
      "name": "python",
      "nbconvert_exporter": "python",
      "pygments_lexer": "ipython3",
      "version": "3.11.5"
    },
    "colab": {
      "provenance": [],
      "gpuType": "T4"
    },
    "accelerator": "GPU"
  },
  "nbformat": 4,
  "nbformat_minor": 5
}